{
 "cells": [
  {
   "cell_type": "code",
   "execution_count": 1,
   "metadata": {
    "collapsed": true
   },
   "outputs": [],
   "source": [
    "from data import DataUtils"
   ]
  },
  {
   "cell_type": "code",
   "execution_count": 2,
   "metadata": {
    "collapsed": false
   },
   "outputs": [],
   "source": [
    "DB_NAME = \"sqlite:///data/db.sqlite\"\n",
    "du = DataUtils.DataUtils(DB_NAME)"
   ]
  },
  {
   "cell_type": "code",
   "execution_count": 3,
   "metadata": {
    "collapsed": false
   },
   "outputs": [
    {
     "name": "stdout",
     "output_type": "stream",
     "text": [
      "[u'freesteveavery-201601', u'ElChap0Guzman-201601', u'katedelcastillo-201601', u'SarahPalinUSA-201601', u'realDonaldTrump-201602', u'Beyonce-201602', u'DaRealAmberRose-201602', u'OfficiaIKanye-201602', u'OJ_Simpson32-201602', u'BernieSanders-201602', u'dantdm-201602', u'realDonaldTrump-201603', u'MerrickGarland_-201603', u'chumlee_-201603', u'HulkHogan-201603', u'KattPackAllDay-201603', u'Beyonce-201604', u'KellyRipa-201604', u'kobebryant-201604', u'Drake-201604', u'Canelo-201605', u'amirkingkhan-201605', u'chancetherapper-201605', u'RealStevenAdams-201605', u'gucci1017-201605', u'realamberheard-201605', u'Money23Green-201605', u'OzzyOsbourne-201605', u'TamarBraxtonHer-201605', u'KingJames-201606', u'iJesseWilliams-201606', u'twhiddleston-201606', u'DJohnsonPGA-201606', u'messi10stats-201606', u'VP-201607', u'timkaine-201607', u'realDonaldTrump-201607', u'HillaryClinton-201607', u'MichelleObama-201607', u'DwyaneWade-201607', u'GretchenCarlson-201607', u'MichaelPhelps-201608', u'RyanLochte-201608', u'usainbolt-201608', u'Simone_Biles-201608', u'Kaepernick7-201608', u'katieledecky-201608', u'Aly_Raisman-201608', u'susmitchakrabo1-201609', u'HillaryClinton-201609', u'joliestweet-201609', u'machadooficial-201609', u'kenbone18-201610', u'realDonaldTrump-201610', u'thebillybush-201610', u'thejessicadrake-201610', u'VP-201610', u'BillClinton-201610', u'bobdylan-201610', u'KimKardashian-201610', u'realDonaldTrump-201611', u'StephenBannon-201611', u'BetsyDeVos-201611', u'BarackObama-201611', u'JoeBiden-201611', u'RondaRousey-201612', u'JColeNC-201612']\n"
     ]
    }
   ],
   "source": [
    "du.start_session()\n",
    "uts = []\n",
    "try: uts = du.get_usertrends()\n",
    "finally: du.close_session()\n",
    "print map(lambda ut: ut.usertrend_id, uts)"
   ]
  },
  {
   "cell_type": "code",
   "execution_count": 4,
   "metadata": {
    "collapsed": false
   },
   "outputs": [],
   "source": [
    "utid = 'BetsyDeVos-201611'\n",
    "du.start_session()\n",
    "tweets = []\n",
    "try:\n",
    "    tweets = du.get_tweets_from_usertrendid(utid)\n",
    "finally:\n",
    "    du.close_session()"
   ]
  },
  {
   "cell_type": "code",
   "execution_count": null,
   "metadata": {
    "collapsed": true
   },
   "outputs": [],
   "source": [
    "tweet_texts = map(lambda t: t.text, tweets)"
   ]
  }
 ],
 "metadata": {
  "kernelspec": {
   "display_name": "Python 2",
   "language": "python",
   "name": "python2"
  },
  "language_info": {
   "codemirror_mode": {
    "name": "ipython",
    "version": 2
   },
   "file_extension": ".py",
   "mimetype": "text/x-python",
   "name": "python",
   "nbconvert_exporter": "python",
   "pygments_lexer": "ipython2",
   "version": "2.7.12"
  }
 },
 "nbformat": 4,
 "nbformat_minor": 2
}
