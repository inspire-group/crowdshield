{
 "cells": [
  {
   "cell_type": "code",
   "execution_count": 9,
   "metadata": {},
   "outputs": [],
   "source": [
    "from Data import DataUtils\n",
    "import json\n",
    "import numpy as np"
   ]
  },
  {
   "cell_type": "code",
   "execution_count": 10,
   "metadata": {},
   "outputs": [],
   "source": [
    "DB_NAME = \"sqlite:///data/db.sqlite\"\n",
    "du = DataUtils.DataUtils(DB_NAME)"
   ]
  },
  {
   "cell_type": "code",
   "execution_count": 14,
   "metadata": {},
   "outputs": [],
   "source": [
    "du.start_session()\n",
    "uts = []\n",
    "try: uts = du.get_usertrends()\n",
    "finally: du.close_session()\n",
    "iots = map(lambda ut: json.loads(ut.interest_over_time), uts)\n",
    "z_scores = []\n",
    "for iot in iots:\n",
    "    mu = np.mean(iot)\n",
    "    sigma = np.std(iot)\n",
    "    z = (100 - mu) / float(sigma)\n",
    "    z_scores.append(z)"
   ]
  },
  {
   "cell_type": "code",
   "execution_count": 15,
   "metadata": {},
   "outputs": [
    {
     "data": {
      "text/plain": [
       "[1.7414367853524035,\n",
       " 2.7708155580782812,\n",
       " 2.8426820466694265,\n",
       " 3.1161111287287295,\n",
       " 2.7485546617653283,\n",
       " 4.2432758425387869,\n",
       " 3.8293472470711629,\n",
       " 2.1825151376363623,\n",
       " 2.1270532457168665,\n",
       " 3.5352125872066362,\n",
       " 1.9629126509457704,\n",
       " 2.6656353476762291,\n",
       " 5.4652123893198192,\n",
       " 4.0171805326823264,\n",
       " 4.4994422309727753,\n",
       " 3.4667769725011004,\n",
       " 2.6517197973151556,\n",
       " 2.930937461535339,\n",
       " 5.1976781638982894,\n",
       " 4.5328471512619188,\n",
       " 5.3067814746295197,\n",
       " 5.325634133902466,\n",
       " 4.584743530516878,\n",
       " 2.6507232085802261,\n",
       " 3.5959409847103356,\n",
       " 2.9795243686791224,\n",
       " 4.8922508923257784,\n",
       " 3.564723893169031,\n",
       " 3.6028413679478648,\n",
       " 5.0476937689896024,\n",
       " 4.8115225408747255,\n",
       " 4.7660221464315429,\n",
       " 4.7009729967178107,\n",
       " 4.6872541779472092,\n",
       " 3.378983849935608,\n",
       " 5.2411429298581549,\n",
       " 3.2824603049392831,\n",
       " 4.3373616716417667,\n",
       " 4.7826650489528202,\n",
       " 4.3186129229998302,\n",
       " 3.6525632452266388,\n",
       " 3.1009723180230897,\n",
       " 3.6017463751398493,\n",
       " 4.2730837994706539,\n",
       " 3.6618056985684952,\n",
       " 3.4128859091035171,\n",
       " 4.2016037217487954,\n",
       " 3.7846678825637787,\n",
       " 3.2219000551961292,\n",
       " 3.7369971535519344,\n",
       " 4.0804734696311602,\n",
       " 3.1103768514488124,\n",
       " 2.8536973920793769,\n",
       " 2.9322854999932502,\n",
       " 3.5002321878424842,\n",
       " 5.0031727858223958,\n",
       " 4.3771075076866257,\n",
       " 4.4858596833579538,\n",
       " 4.475123694885573,\n",
       " 4.5752059630581057,\n",
       " 4.9245780559998753,\n",
       " 4.0232199841378717,\n",
       " 4.1820967737203505,\n",
       " 4.2566417379447774,\n",
       " 2.413599985351357,\n",
       " 5.4265361443050191,\n",
       " 4.1455106316637522]"
      ]
     },
     "execution_count": 15,
     "metadata": {},
     "output_type": "execute_result"
    }
   ],
   "source": [
    "z_scores"
   ]
  },
  {
   "cell_type": "code",
   "execution_count": 17,
   "metadata": {},
   "outputs": [
    {
     "data": {
      "text/html": [
       "<div>\n",
       "<style scoped>\n",
       "    .dataframe tbody tr th:only-of-type {\n",
       "        vertical-align: middle;\n",
       "    }\n",
       "\n",
       "    .dataframe tbody tr th {\n",
       "        vertical-align: top;\n",
       "    }\n",
       "\n",
       "    .dataframe thead th {\n",
       "        text-align: right;\n",
       "    }\n",
       "</style>\n",
       "<table border=\"1\" class=\"dataframe\">\n",
       "  <thead>\n",
       "    <tr style=\"text-align: right;\">\n",
       "      <th></th>\n",
       "      <th>z_score</th>\n",
       "    </tr>\n",
       "  </thead>\n",
       "  <tbody>\n",
       "    <tr>\n",
       "      <th>count</th>\n",
       "      <td>67.000000</td>\n",
       "    </tr>\n",
       "    <tr>\n",
       "      <th>mean</th>\n",
       "      <td>3.847748</td>\n",
       "    </tr>\n",
       "    <tr>\n",
       "      <th>std</th>\n",
       "      <td>0.929772</td>\n",
       "    </tr>\n",
       "    <tr>\n",
       "      <th>min</th>\n",
       "      <td>1.741437</td>\n",
       "    </tr>\n",
       "    <tr>\n",
       "      <th>25%</th>\n",
       "      <td>3.113244</td>\n",
       "    </tr>\n",
       "    <tr>\n",
       "      <th>50%</th>\n",
       "      <td>3.829347</td>\n",
       "    </tr>\n",
       "    <tr>\n",
       "      <th>75%</th>\n",
       "      <td>4.554027</td>\n",
       "    </tr>\n",
       "    <tr>\n",
       "      <th>max</th>\n",
       "      <td>5.465212</td>\n",
       "    </tr>\n",
       "  </tbody>\n",
       "</table>\n",
       "</div>"
      ],
      "text/plain": [
       "         z_score\n",
       "count  67.000000\n",
       "mean    3.847748\n",
       "std     0.929772\n",
       "min     1.741437\n",
       "25%     3.113244\n",
       "50%     3.829347\n",
       "75%     4.554027\n",
       "max     5.465212"
      ]
     },
     "execution_count": 17,
     "metadata": {},
     "output_type": "execute_result"
    }
   ],
   "source": [
    "from pandas import DataFrame as df\n",
    "data = df(data = {'z_score':z_scores})\n",
    "data.describe()"
   ]
  },
  {
   "cell_type": "code",
   "execution_count": 19,
   "metadata": {},
   "outputs": [],
   "source": [
    "utid = 'BetsyDeVos-201611'\n",
    "du.start_session()\n",
    "tweets = []\n",
    "try:\n",
    "    tweets = du.get_tweets_from_usertrendid(utid)\n",
    "finally:\n",
    "    du.close_session()"
   ]
  },
  {
   "cell_type": "code",
   "execution_count": 20,
   "metadata": {},
   "outputs": [],
   "source": [
    "tweet_texts = map(lambda t: t.text, tweets)"
   ]
  },
  {
   "cell_type": "code",
   "execution_count": 21,
   "metadata": {},
   "outputs": [
    {
     "name": "stdout",
     "output_type": "stream",
     "text": [
      "@BetsyDeVos will he Education Secretary @realDonaldTrump @transition2017\n"
     ]
    }
   ],
   "source": [
    "print tweet_texts[0]"
   ]
  },
  {
   "cell_type": "code",
   "execution_count": 22,
   "metadata": {
    "collapsed": true
   },
   "outputs": [],
   "source": [
    "from gensim import models"
   ]
  },
  {
   "cell_type": "code",
   "execution_count": 23,
   "metadata": {},
   "outputs": [
    {
     "name": "stderr",
     "output_type": "stream",
     "text": [
      "WARNING:gensim.models.word2vec:Each 'sentences' item should be a list of words (usually unicode strings). First item here is instead plain <type 'unicode'>.\n"
     ]
    }
   ],
   "source": [
    "model = models.Word2Vec(tweet_texts, workers=1)"
   ]
  },
  {
   "cell_type": "code",
   "execution_count": 24,
   "metadata": {
    "collapsed": true
   },
   "outputs": [],
   "source": [
    "texts = map(lambda t: t.split(' '), tweet_texts)"
   ]
  },
  {
   "cell_type": "code",
   "execution_count": 25,
   "metadata": {},
   "outputs": [
    {
     "name": "stderr",
     "output_type": "stream",
     "text": [
      "WARNING:gensim.models.word2vec:under 10 jobs per worker: consider setting a smaller `batch_words' for smoother alpha decay\n"
     ]
    }
   ],
   "source": [
    "model = models.Word2Vec(texts)"
   ]
  },
  {
   "cell_type": "code",
   "execution_count": 26,
   "metadata": {},
   "outputs": [
    {
     "data": {
      "text/plain": [
       "array([  1.45697236e-01,   1.60784647e-01,  -6.65967911e-02,\n",
       "        -2.47573406e-02,  -2.16470778e-01,   1.01045586e-01,\n",
       "        -2.18170024e-02,  -1.42203674e-01,  -7.66885579e-02,\n",
       "         1.09199144e-01,   7.64621273e-02,  -1.21623784e-01,\n",
       "        -2.27638215e-01,  -8.23894441e-02,   8.34783912e-02,\n",
       "         6.61207512e-02,  -1.28593460e-01,  -1.06357984e-01,\n",
       "         4.98223864e-02,   1.70857385e-02,  -2.44466513e-01,\n",
       "        -8.16097260e-02,   1.08731493e-01,   3.22021335e-01,\n",
       "         7.90629536e-02,  -1.18619479e-01,  -2.47554202e-02,\n",
       "        -5.00054806e-02,  -1.16724461e-01,  -1.31846562e-01,\n",
       "        -2.47146159e-01,   1.22994483e-01,  -6.75933734e-02,\n",
       "        -1.01067694e-02,  -6.97189826e-04,   1.85033277e-01,\n",
       "        -6.30403981e-02,   9.32992846e-02,   1.23633429e-01,\n",
       "        -1.30911201e-01,  -1.71662763e-01,  -1.27938151e-01,\n",
       "        -1.03439562e-01,   5.11400141e-02,   7.50819221e-02,\n",
       "        -1.76887527e-01,  -1.57587782e-01,   1.24265425e-01,\n",
       "         5.13924137e-02,   6.59062564e-02,  -1.50496591e-04,\n",
       "         6.09579682e-02,  -3.18178423e-02,  -1.36035904e-01,\n",
       "         1.39071792e-01,   2.16475613e-02,  -5.21935858e-02,\n",
       "         6.49465099e-02,  -2.79757768e-01,  -1.76798910e-01,\n",
       "        -3.43608037e-02,   7.96687827e-02,   1.29085928e-02,\n",
       "        -3.16453762e-02,   1.78479925e-01,  -1.06853686e-01,\n",
       "        -1.60677567e-01,   2.87580546e-02,   1.07570536e-01,\n",
       "        -1.32798450e-03,  -1.58153132e-01,  -1.39949366e-01,\n",
       "        -8.88159871e-02,   1.32880822e-01,  -5.00169173e-02,\n",
       "        -6.63173199e-02,  -4.10103239e-03,   6.39994740e-02,\n",
       "         1.12683445e-01,   1.74359918e-01,   6.52789250e-02,\n",
       "         2.70539578e-02,  -1.11646522e-02,  -1.69238038e-02,\n",
       "         4.97319996e-02,   2.85780430e-02,  -9.91007164e-02,\n",
       "        -2.65229344e-01,   1.56376377e-01,  -1.75438181e-01,\n",
       "        -3.13304365e-01,   4.40991968e-02,  -4.45792489e-02,\n",
       "         6.78260475e-02,  -1.16083503e-01,   1.61191881e-01,\n",
       "         1.57022327e-01,   1.35701641e-01,  -5.44649214e-02,\n",
       "        -7.28500038e-02], dtype=float32)"
      ]
     },
     "execution_count": 26,
     "metadata": {},
     "output_type": "execute_result"
    }
   ],
   "source": [
    "model.wv['he']"
   ]
  },
  {
   "cell_type": "code",
   "execution_count": 30,
   "metadata": {},
   "outputs": [
    {
     "name": "stderr",
     "output_type": "stream",
     "text": [
      "WARNING:gensim.models.word2vec:under 10 jobs per worker: consider setting a smaller `batch_words' for smoother alpha decay\n"
     ]
    },
    {
     "data": {
      "text/plain": [
       "1"
      ]
     },
     "execution_count": 30,
     "metadata": {},
     "output_type": "execute_result"
    }
   ],
   "source": [
    "model.train([['hi', 'there']], total_examples=1, epochs=1)"
   ]
  },
  {
   "cell_type": "code",
   "execution_count": 31,
   "metadata": {},
   "outputs": [
    {
     "data": {
      "text/plain": [
       "<gensim.models.keyedvectors.EuclideanKeyedVectors at 0x7fe7ffa2e390>"
      ]
     },
     "execution_count": 31,
     "metadata": {},
     "output_type": "execute_result"
    }
   ],
   "source": [
    "model.wv"
   ]
  },
  {
   "cell_type": "code",
   "execution_count": 32,
   "metadata": {},
   "outputs": [
    {
     "ename": "AttributeError",
     "evalue": "'EuclideanKeyedVectors' object has no attribute 'size'",
     "output_type": "error",
     "traceback": [
      "\u001b[1;31m---------------------------------------------------------------------------\u001b[0m",
      "\u001b[1;31mAttributeError\u001b[0m                            Traceback (most recent call last)",
      "\u001b[1;32m<ipython-input-32-90663e989e68>\u001b[0m in \u001b[0;36m<module>\u001b[1;34m()\u001b[0m\n\u001b[1;32m----> 1\u001b[1;33m \u001b[0mmodel\u001b[0m\u001b[1;33m.\u001b[0m\u001b[0mwv\u001b[0m\u001b[1;33m.\u001b[0m\u001b[0msize\u001b[0m\u001b[1;33m\u001b[0m\u001b[0m\n\u001b[0m",
      "\u001b[1;31mAttributeError\u001b[0m: 'EuclideanKeyedVectors' object has no attribute 'size'"
     ]
    }
   ],
   "source": [
    "model.wv.size"
   ]
  },
  {
   "cell_type": "code",
   "execution_count": null,
   "metadata": {
    "collapsed": true
   },
   "outputs": [],
   "source": []
  }
 ],
 "metadata": {
  "kernelspec": {
   "display_name": "Python 2",
   "language": "python",
   "name": "python2"
  },
  "language_info": {
   "codemirror_mode": {
    "name": "ipython",
    "version": 2
   },
   "file_extension": ".py",
   "mimetype": "text/x-python",
   "name": "python",
   "nbconvert_exporter": "python",
   "pygments_lexer": "ipython2",
   "version": "2.7.14"
  }
 },
 "nbformat": 4,
 "nbformat_minor": 2
}
